{
 "cells": [
  {
   "cell_type": "markdown",
   "id": "c3035875",
   "metadata": {},
   "source": [
    "# Exercise1_Solution"
   ]
  },
  {
   "cell_type": "markdown",
   "id": "856cf889",
   "metadata": {},
   "source": [
    "# Create an empty list called fruits_list.\n",
    "fruits_list = []\n",
    "\n",
    "# Add \"apple\", \"banana\", \"orange\", \"grape\", and \"mango\" to the fruits_list.\n",
    "fruits_list.extend([\"apple\", \"banana\", \"orange\", \"grape\", \"mango\"])\n",
    "\n",
    "# Print the first, last, and second & third fruits in the list using slicing.\n",
    "print(\"First fruit:\", fruits_list[0])\n",
    "print(\"Last fruit:\", fruits_list[-1])\n",
    "print(\"Second and third fruits:\", fruits_list[1:3])\n",
    "\n",
    "# Print the number of fruits in the list.\n",
    "print(\"Number of fruits:\", len(fruits_list))\n",
    "\n",
    "# Replace the third fruit with \"pear\" in the list.\n",
    "fruits_list[2] = \"pear\"\n",
    "\n",
    "# Check if \"apple\" is present in the fruits_list and print the result.\n",
    "print(\"\\\"apple\\\" is present in the list:\", \"apple\" in fruits_list)\n",
    "\n",
    "# Remove \"banana\" and the last fruit from the list.\n",
    "fruits_list.remove(\"banana\")\n",
    "fruits_list.pop()\n",
    "\n",
    "# Create another list additional_fruits with \"watermelon\" and \"kiwi\", then concatenate it with fruits_list.\n",
    "additional_fruits = [\"watermelon\", \"kiwi\"]\n",
    "fruits_list += additional_fruits\n",
    "\n",
    "# Sort the fruits_list in alphabetical order.\n",
    "fruits_list.sort()\n",
    "\n",
    "# Count the number of times \"kiwi\" appears in the fruits_list.\n",
    "kiwi_count = fruits_list.count(\"kiwi\")\n",
    "\n",
    "# Print the final fruits_list and the count of \"kiwi\".\n",
    "print(\"Final fruits_list:\", fruits_list)\n",
    "print(\"Number of kiwis:\", kiwi_count)\n"
   ]
  },
  {
   "cell_type": "code",
   "execution_count": null,
   "id": "b4885b8c",
   "metadata": {},
   "outputs": [],
   "source": []
  },
  {
   "cell_type": "markdown",
   "id": "0ebc5295",
   "metadata": {},
   "source": [
    "# Exercise2_Solution:Counting Even Numbers"
   ]
  },
  {
   "cell_type": "code",
   "execution_count": 1,
   "id": "cf8747c4",
   "metadata": {},
   "outputs": [
    {
     "name": "stdout",
     "output_type": "stream",
     "text": [
      "Number of even numbers: 5\n"
     ]
    }
   ],
   "source": [
    "def count_even_numbers(numbers):\n",
    "    count = 0\n",
    "    for num in numbers:\n",
    "        if num % 2 == 0:\n",
    "            count += 1\n",
    "    return count\n",
    "\n",
    "# Example usage:\n",
    "numbers_list = [1, 2, 3, 4, 5, 6, 7, 8, 9, 10]\n",
    "even_count = count_even_numbers(numbers_list)\n",
    "print(\"Number of even numbers:\", even_count)\n"
   ]
  },
  {
   "cell_type": "code",
   "execution_count": null,
   "id": "be601523",
   "metadata": {},
   "outputs": [],
   "source": []
  }
 ],
 "metadata": {
  "kernelspec": {
   "display_name": "Python 3 (ipykernel)",
   "language": "python",
   "name": "python3"
  },
  "language_info": {
   "codemirror_mode": {
    "name": "ipython",
    "version": 3
   },
   "file_extension": ".py",
   "mimetype": "text/x-python",
   "name": "python",
   "nbconvert_exporter": "python",
   "pygments_lexer": "ipython3",
   "version": "3.11.2"
  },
  "toc": {
   "base_numbering": 1,
   "nav_menu": {},
   "number_sections": true,
   "sideBar": true,
   "skip_h1_title": false,
   "title_cell": "Table of Contents",
   "title_sidebar": "Contents",
   "toc_cell": false,
   "toc_position": {},
   "toc_section_display": true,
   "toc_window_display": false
  }
 },
 "nbformat": 4,
 "nbformat_minor": 5
}

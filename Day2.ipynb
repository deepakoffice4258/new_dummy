{
 "cells": [
  {
   "cell_type": "code",
   "execution_count": 1,
   "id": "e585fe74",
   "metadata": {},
   "outputs": [
    {
     "name": "stdout",
     "output_type": "stream",
     "text": [
      "Hello WORLD\n"
     ]
    }
   ],
   "source": [
    "print(\"Hello WORLD\")"
   ]
  },
  {
   "cell_type": "code",
   "execution_count": 2,
   "id": "1153faba",
   "metadata": {},
   "outputs": [
    {
     "data": {
      "text/plain": [
       "5"
      ]
     },
     "execution_count": 2,
     "metadata": {},
     "output_type": "execute_result"
    }
   ],
   "source": [
    "deepak=5\n",
    "deepak"
   ]
  },
  {
   "cell_type": "code",
   "execution_count": 4,
   "id": "0e7e1680",
   "metadata": {},
   "outputs": [
    {
     "data": {
      "text/plain": [
       "25"
      ]
     },
     "execution_count": 4,
     "metadata": {},
     "output_type": "execute_result"
    }
   ],
   "source": [
    "deepak24=25\n",
    "deepak24"
   ]
  },
  {
   "cell_type": "code",
   "execution_count": 6,
   "id": "d419a74d",
   "metadata": {},
   "outputs": [
    {
     "data": {
      "text/plain": [
       "26"
      ]
     },
     "execution_count": 6,
     "metadata": {},
     "output_type": "execute_result"
    }
   ],
   "source": [
    "dee_pak=26\n",
    "dee_pak"
   ]
  },
  {
   "cell_type": "code",
   "execution_count": 9,
   "id": "7199be80",
   "metadata": {},
   "outputs": [
    {
     "name": "stdout",
     "output_type": "stream",
     "text": [
      "30\n",
      "30\n"
     ]
    }
   ],
   "source": [
    "x=10\n",
    "y=20\n",
    "\n",
    "z=x+y\n",
    "print(z)\n",
    "print(x+y)"
   ]
  },
  {
   "cell_type": "code",
   "execution_count": 10,
   "id": "2eed417a",
   "metadata": {},
   "outputs": [
    {
     "name": "stdout",
     "output_type": "stream",
     "text": [
      "enter the value20\n"
     ]
    }
   ],
   "source": [
    "x=int(input(\"enter the value\"))"
   ]
  },
  {
   "cell_type": "code",
   "execution_count": 11,
   "id": "4f11a51d",
   "metadata": {},
   "outputs": [
    {
     "data": {
      "text/plain": [
       "20"
      ]
     },
     "execution_count": 11,
     "metadata": {},
     "output_type": "execute_result"
    }
   ],
   "source": [
    "x"
   ]
  },
  {
   "cell_type": "code",
   "execution_count": 12,
   "id": "b476fdaf",
   "metadata": {},
   "outputs": [
    {
     "data": {
      "text/plain": [
       "int"
      ]
     },
     "execution_count": 12,
     "metadata": {},
     "output_type": "execute_result"
    }
   ],
   "source": [
    "type(x)"
   ]
  },
  {
   "cell_type": "code",
   "execution_count": 13,
   "id": "090211b2",
   "metadata": {},
   "outputs": [
    {
     "name": "stdout",
     "output_type": "stream",
     "text": [
      "enter the value20\n"
     ]
    }
   ],
   "source": [
    "y=input(\"enter the value\")"
   ]
  },
  {
   "cell_type": "code",
   "execution_count": 14,
   "id": "d2aba7ea",
   "metadata": {},
   "outputs": [
    {
     "data": {
      "text/plain": [
       "str"
      ]
     },
     "execution_count": 14,
     "metadata": {},
     "output_type": "execute_result"
    }
   ],
   "source": [
    "type(y)"
   ]
  },
  {
   "cell_type": "code",
   "execution_count": 17,
   "id": "faeddca3",
   "metadata": {},
   "outputs": [
    {
     "data": {
      "text/plain": [
       "30"
      ]
     },
     "execution_count": 17,
     "metadata": {},
     "output_type": "execute_result"
    }
   ],
   "source": [
    "z"
   ]
  },
  {
   "cell_type": "code",
   "execution_count": 18,
   "id": "f934ecc3",
   "metadata": {},
   "outputs": [
    {
     "name": "stdout",
     "output_type": "stream",
     "text": [
      "250000\n"
     ]
    }
   ],
   "source": [
    "profit_q1 = 50000\n",
    "profit_q2 = 75000\n",
    "profit_q3 = 60000\n",
    "profit_q4 = 65000\n",
    "total_profit = profit_q1 + profit_q2 + profit_q3 + profit_q4\n",
    "print(total_profit)  "
   ]
  },
  {
   "cell_type": "code",
   "execution_count": 20,
   "id": "4ea5d5a3",
   "metadata": {},
   "outputs": [
    {
     "name": "stdout",
     "output_type": "stream",
     "text": [
      "False\n"
     ]
    }
   ],
   "source": [
    "\n",
    "password = \"Secure1\"\n",
    "is_valid_length = len(password) >= 8\n",
    "print(is_valid_length)  "
   ]
  },
  {
   "cell_type": "code",
   "execution_count": 30,
   "id": "8d3408ee",
   "metadata": {},
   "outputs": [
    {
     "data": {
      "text/plain": [
       "''"
      ]
     },
     "execution_count": 30,
     "metadata": {},
     "output_type": "execute_result"
    }
   ],
   "source": [
    "name=\"Wellcome to all we are sesion in Edunet foudation we are learing Ai\"\n"
   ]
  },
  {
   "cell_type": "code",
   "execution_count": 1,
   "id": "bd3c54a4",
   "metadata": {},
   "outputs": [],
   "source": [
    "f=[1,20,20.0,\"HEllo\"]"
   ]
  },
  {
   "cell_type": "code",
   "execution_count": 2,
   "id": "170f2918",
   "metadata": {},
   "outputs": [
    {
     "data": {
      "text/plain": [
       "[1, 20, 20.0, 'HEllo']"
      ]
     },
     "execution_count": 2,
     "metadata": {},
     "output_type": "execute_result"
    }
   ],
   "source": [
    "f"
   ]
  },
  {
   "cell_type": "code",
   "execution_count": 3,
   "id": "3dc27679",
   "metadata": {},
   "outputs": [
    {
     "data": {
      "text/plain": [
       "list"
      ]
     },
     "execution_count": 3,
     "metadata": {},
     "output_type": "execute_result"
    }
   ],
   "source": [
    "type(f)"
   ]
  },
  {
   "cell_type": "code",
   "execution_count": 7,
   "id": "5771333d",
   "metadata": {},
   "outputs": [],
   "source": [
    "name=[\"Deepak\",\"Yadav\",\"Shubham\",\"Gupta\",\"Sakshi\",\"Patil\",\"Shubham\",\"Yadav\",\"Yadav\"]"
   ]
  },
  {
   "cell_type": "code",
   "execution_count": 8,
   "id": "72034372",
   "metadata": {},
   "outputs": [
    {
     "name": "stdout",
     "output_type": "stream",
     "text": [
      "3\n"
     ]
    }
   ],
   "source": [
    "x=0\n",
    "for i in name:\n",
    "    if i==\"Yadav\":\n",
    "        x=x+1\n",
    "        \n",
    "print(x)\n",
    "    "
   ]
  },
  {
   "cell_type": "code",
   "execution_count": 13,
   "id": "aeb3e1cc",
   "metadata": {},
   "outputs": [
    {
     "name": "stdout",
     "output_type": "stream",
     "text": [
      "1\n"
     ]
    }
   ],
   "source": [
    "name=(10,30,14,18,4,1,40)\n",
    "smallest=name[0]\n",
    "for i in name:\n",
    "    if i<smallest:\n",
    "        smallest=i\n",
    "print(smallest)"
   ]
  },
  {
   "cell_type": "code",
   "execution_count": null,
   "id": "e30a79ba",
   "metadata": {},
   "outputs": [],
   "source": []
  }
 ],
 "metadata": {
  "kernelspec": {
   "display_name": "Python 3 (ipykernel)",
   "language": "python",
   "name": "python3"
  },
  "language_info": {
   "codemirror_mode": {
    "name": "ipython",
    "version": 3
   },
   "file_extension": ".py",
   "mimetype": "text/x-python",
   "name": "python",
   "nbconvert_exporter": "python",
   "pygments_lexer": "ipython3",
   "version": "3.11.5"
  }
 },
 "nbformat": 4,
 "nbformat_minor": 5
}
